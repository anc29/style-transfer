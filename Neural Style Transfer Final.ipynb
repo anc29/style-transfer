{
  "nbformat": 4,
  "nbformat_minor": 0,
  "metadata": {
    "colab": {
      "name": "Neural Style Transfer with Eager Execution",
      "private_outputs": true,
      "provenance": [],
      "collapsed_sections": []
    },
    "kernelspec": {
      "name": "python3",
      "display_name": "Python 3"
    },
    "accelerator": "GPU"
  },
  "cells": [
    {
      "cell_type": "markdown",
      "metadata": {
        "id": "q0xi86ancDAn"
      },
      "source": [
        "### **Neural Style Transfer**\n",
        "\n",
        "This is an implementation of NST based on Neural Style Transfer with Eager Execution, an online tutorial found at https://github.com/nikhilagrawal2000/Neural-Style-Transfer-with-Eager-Execution. The changes made to the code are as follows:\n",
        "\n",
        "1. Replace the test data used with my own personal choices of Monet artworks and landscape images.\n",
        "2. Tune the Adam Optimiser and content/style weights as desired, and as supported by my literature review.\n",
        "3. Introduce the Learned Perceptual Image Patch Similarity (LPIPS) as a quantitative measure of the success of style transfer. Write additional code to ensure the tensor sizes are equivalent in order to compare the input and output images.\n"
      ]
    },
    {
      "cell_type": "markdown",
      "metadata": {
        "id": "N_Ock8sRcFHs"
      },
      "source": [
        "**Some quick notes for Google Colab:**\n",
        "\n",
        "1. All cells can be run using Shift+Enter.\n",
        "2. To upload images, go to \"Files\" on the far-left of the screen, then click the top-left icon to upload images.\n",
        "3. To upload images to a particular directory, hover over the directory, click on the dots on the far-right, and click the upload button."
      ]
    },
    {
      "cell_type": "code",
      "metadata": {
        "id": "JpnbrVKtcFqx"
      },
      "source": [
        "# import all libraries\n",
        "import matplotlib.pyplot as plt\n",
        "import matplotlib as mpl\n",
        "mpl.rcParams['figure.figsize'] = (10,10)\n",
        "mpl.rcParams['axes.grid'] = False\n",
        "\n",
        "import numpy as np\n",
        "from PIL import Image\n",
        "import time\n",
        "import functools"
      ],
      "execution_count": null,
      "outputs": []
    },
    {
      "cell_type": "code",
      "metadata": {
        "id": "RYEjlrYk3s6w"
      },
      "source": [
        "%tensorflow_version 1.x\n",
        "import tensorflow as tf\n",
        "\n",
        "from tensorflow.python.keras.preprocessing import image as kp_image\n",
        "from tensorflow.python.keras import models \n",
        "from tensorflow.python.keras import losses\n",
        "from tensorflow.python.keras import layers\n",
        "from tensorflow.python.keras import backend as K"
      ],
      "execution_count": null,
      "outputs": []
    },
    {
      "cell_type": "code",
      "metadata": {
        "id": "sfjsSAtNrqQx"
      },
      "source": [
        "tf.enable_eager_execution()\n",
        "print(\"Eager execution: {}\".format(tf.executing_eagerly()))"
      ],
      "execution_count": null,
      "outputs": []
    },
    {
      "cell_type": "markdown",
      "metadata": {
        "id": "-ApqHUukcRgF"
      },
      "source": [
        "To perform an example style transfer (for the beach), save, download, and upload the following images and upload them to Google Colab:\n",
        "\n",
        "Content path (beach): https://www.google.com/url?sa=i&url=https%3A%2F%2Ffineartamerica.com%2Ffeatured%2F1-beautiful-sunset-at-brighton-jetty-in-adelaide-south-australia-peter-mundy.html&psig=AOvVaw3Vrk8yHJA8gqj8ifrrt3ml&ust=1635140051153000&source=images&cd=vfe&ved=0CAsQjRxqFwoTCJiZ3sSp4vMCFQAAAAAdAAAAABAD\n",
        "\n",
        "**For the beach image, use the link to the picture at the bottom of the webpage, not the larger image.**\n",
        "\n",
        "Style path (Monet): https://www.google.com/url?sa=i&url=https%3A%2F%2Fshop.ariustechnology.com%2Fblogs%2Fnews%2Ftop-5-most-expensive-claude-monet-paintings-ever-sold&psig=AOvVaw0EsCvROE8ar9sg0SbGRlpV&ust=1635140108264000&source=images&cd=vfe&ved=0CAsQjRxqFwoTCNC_i96p4vMCFQAAAAAdAAAAABAD\n",
        "\n",
        "*An important note - after running style transfer, if you decide to review the Colab notebook at a later date, the previous session will be deleted. Consequently, all images uploaded to session storage will be deleted. Another important note - to prevent any bugs during style transfer, pleae ensure that both the input images are .jpg files.*"
      ]
    },
    {
      "cell_type": "code",
      "metadata": {
        "id": "IOiGrIV1iERH"
      },
      "source": [
        "# Set up some global values here\n",
        "content_path = 'input1.jpg'\n",
        "style_path = 'monet1.jpg'"
      ],
      "execution_count": null,
      "outputs": []
    },
    {
      "cell_type": "code",
      "metadata": {
        "id": "3TLljcwv5qZs"
      },
      "source": [
        "def load_img(path_to_img):\n",
        "  max_dim = 512\n",
        "  img = Image.open(path_to_img)\n",
        "  long = max(img.size)\n",
        "  scale = max_dim/long\n",
        "  img = img.resize((round(img.size[0]*scale), round(img.size[1]*scale)), Image.ANTIALIAS)\n",
        "  \n",
        "  img = kp_image.img_to_array(img)\n",
        "  \n",
        "  # We need to broadcast the image array such that it has a batch dimension \n",
        "  img = np.expand_dims(img, axis=0)\n",
        "  return img"
      ],
      "execution_count": null,
      "outputs": []
    },
    {
      "cell_type": "code",
      "metadata": {
        "id": "vupl0CI18aAG"
      },
      "source": [
        "def imshow(img, title=None):\n",
        "  # Remove the batch dimension\n",
        "  out = np.squeeze(img, axis=0)\n",
        "  # Normalize for display \n",
        "  out = out.astype('uint8')\n",
        "  plt.imshow(out)\n",
        "  if title is not None:\n",
        "    plt.title(title)\n",
        "  plt.imshow(out)"
      ],
      "execution_count": null,
      "outputs": []
    },
    {
      "cell_type": "code",
      "metadata": {
        "id": "_UWQmeEaiKkP"
      },
      "source": [
        "plt.figure(figsize=(10,10))\n",
        "\n",
        "content = load_img(content_path).astype('uint8')\n",
        "style = load_img(style_path).astype('uint8')\n",
        "\n",
        "plt.subplot(1, 2, 1)\n",
        "imshow(content, 'Content Image')\n",
        "\n",
        "plt.subplot(1, 2, 2)\n",
        "imshow(style, 'Style Image')\n",
        "plt.show()"
      ],
      "execution_count": null,
      "outputs": []
    },
    {
      "cell_type": "code",
      "metadata": {
        "id": "hGwmTwJNmv2a"
      },
      "source": [
        "def load_and_process_img(path_to_img):\n",
        "  img = load_img(path_to_img)\n",
        "  img = tf.keras.applications.vgg19.preprocess_input(img)\n",
        "  return img"
      ],
      "execution_count": null,
      "outputs": []
    },
    {
      "cell_type": "code",
      "metadata": {
        "id": "mjzlKRQRs_y2"
      },
      "source": [
        "def deprocess_img(processed_img):\n",
        "  x = processed_img.copy()\n",
        "  if len(x.shape) == 4:\n",
        "    x = np.squeeze(x, 0)\n",
        "  assert len(x.shape) == 3, (\"Input to deprocess image must be an image of \"\n",
        "                             \"dimension [1, height, width, channel] or [height, width, channel]\")\n",
        "  if len(x.shape) != 3:\n",
        "    raise ValueError(\"Invalid input to deprocessing image\")\n",
        "  \n",
        "  # perform the inverse of the preprocessing step\n",
        "  x[:, :, 0] += 103.939\n",
        "  x[:, :, 1] += 116.779\n",
        "  x[:, :, 2] += 123.68\n",
        "  x = x[:, :, ::-1]\n",
        "\n",
        "  x = np.clip(x, 0, 255).astype('uint8')\n",
        "  return x"
      ],
      "execution_count": null,
      "outputs": []
    },
    {
      "cell_type": "code",
      "metadata": {
        "id": "N4-8eUp_Kc-j"
      },
      "source": [
        "# Content layer where will pull our feature maps\n",
        "content_layers = ['block5_conv2'] \n",
        "\n",
        "# Style layer we are interested in\n",
        "style_layers = ['block1_conv1',\n",
        "                'block2_conv1',\n",
        "                'block3_conv1', \n",
        "                'block4_conv1', \n",
        "                'block5_conv1'\n",
        "               ]\n",
        "\n",
        "num_content_layers = len(content_layers)\n",
        "num_style_layers = len(style_layers)"
      ],
      "execution_count": null,
      "outputs": []
    },
    {
      "cell_type": "code",
      "metadata": {
        "id": "nfec6MuMAbPx"
      },
      "source": [
        "def get_model():\n",
        "  \"\"\" Creates our model with access to intermediate layers. \n",
        "  \n",
        "  This function will load the VGG19 model and access the intermediate layers. \n",
        "  These layers will then be used to create a new model that will take input image\n",
        "  and return the outputs from these intermediate layers from the VGG model. \n",
        "  \n",
        "  Returns:\n",
        "    returns a keras model that takes image inputs and outputs the style and \n",
        "      content intermediate layers. \n",
        "  \"\"\"\n",
        "  # Load our model. We load pretrained VGG, trained on imagenet data\n",
        "  vgg = tf.keras.applications.vgg19.VGG19(include_top=False, weights='imagenet')\n",
        "  vgg.trainable = False\n",
        "  # Get output layers corresponding to style and content layers \n",
        "  style_outputs = [vgg.get_layer(name).output for name in style_layers]\n",
        "  content_outputs = [vgg.get_layer(name).output for name in content_layers]\n",
        "  model_outputs = style_outputs + content_outputs\n",
        "  # Build model \n",
        "  return models.Model(vgg.input, model_outputs)"
      ],
      "execution_count": null,
      "outputs": []
    },
    {
      "cell_type": "code",
      "metadata": {
        "id": "d2mf7JwRMkCd"
      },
      "source": [
        "def get_content_loss(base_content, target):\n",
        "  return tf.reduce_mean(tf.square(base_content - target))"
      ],
      "execution_count": null,
      "outputs": []
    },
    {
      "cell_type": "code",
      "metadata": {
        "id": "N7MOqwKLLke8"
      },
      "source": [
        "def gram_matrix(input_tensor):\n",
        "  # We make the image channels first \n",
        "  channels = int(input_tensor.shape[-1])\n",
        "  a = tf.reshape(input_tensor, [-1, channels])\n",
        "  n = tf.shape(a)[0]\n",
        "  gram = tf.matmul(a, a, transpose_a=True)\n",
        "  return gram / tf.cast(n, tf.float32)\n",
        "\n",
        "def get_style_loss(base_style, gram_target):\n",
        "  \"\"\"Expects two images of dimension h, w, c\"\"\"\n",
        "  # height, width, num filters of each layer\n",
        "  # We scale the loss at a given layer by the size of the feature map and the number of filters\n",
        "  height, width, channels = base_style.get_shape().as_list()\n",
        "  gram_style = gram_matrix(base_style)\n",
        "  \n",
        "  return tf.reduce_mean(tf.square(gram_style - gram_target))# / (4. * (channels ** 2) * (width * height) ** 2)"
      ],
      "execution_count": null,
      "outputs": []
    },
    {
      "cell_type": "code",
      "metadata": {
        "id": "O-lj5LxgtmnI"
      },
      "source": [
        "def get_feature_representations(model, content_path, style_path):\n",
        "  \"\"\"Helper function to compute our content and style feature representations.\n",
        "\n",
        "  This function will simply load and preprocess both the content and style \n",
        "  images from their path. Then it will feed them through the network to obtain\n",
        "  the outputs of the intermediate layers. \n",
        "  \n",
        "  Arguments:\n",
        "    model: The model that we are using.\n",
        "    content_path: The path to the content image.\n",
        "    style_path: The path to the style image\n",
        "    \n",
        "  Returns:\n",
        "    returns the style features and the content features. \n",
        "  \"\"\"\n",
        "  # Load our images in \n",
        "  content_image = load_and_process_img(content_path)\n",
        "  style_image = load_and_process_img(style_path)\n",
        "  \n",
        "  # batch compute content and style features\n",
        "  style_outputs = model(style_image)\n",
        "  content_outputs = model(content_image)\n",
        "  \n",
        "  \n",
        "  # Get the style and content feature representations from our model  \n",
        "  style_features = [style_layer[0] for style_layer in style_outputs[:num_style_layers]]\n",
        "  content_features = [content_layer[0] for content_layer in content_outputs[num_style_layers:]]\n",
        "  return style_features, content_features"
      ],
      "execution_count": null,
      "outputs": []
    },
    {
      "cell_type": "code",
      "metadata": {
        "id": "oVDhSo8iJunf"
      },
      "source": [
        "def compute_loss(model, loss_weights, init_image, gram_style_features, content_features):\n",
        "  \"\"\"This function will compute the loss total loss.\n",
        "  \n",
        "  Arguments:\n",
        "    model: The model that will give us access to the intermediate layers\n",
        "    loss_weights: The weights of each contribution of each loss function. \n",
        "      (style weight, content weight, and total variation weight)\n",
        "    init_image: Our initial base image. This image is what we are updating with \n",
        "      our optimization process. We apply the gradients wrt the loss we are \n",
        "      calculating to this image.\n",
        "    gram_style_features: Precomputed gram matrices corresponding to the \n",
        "      defined style layers of interest.\n",
        "    content_features: Precomputed outputs from defined content layers of \n",
        "      interest.\n",
        "      \n",
        "  Returns:\n",
        "    returns the total loss, style loss, content loss, and total variational loss\n",
        "  \"\"\"\n",
        "  style_weight, content_weight = loss_weights\n",
        "  \n",
        "  # Feed our init image through our model. This will give us the content and \n",
        "  # style representations at our desired layers. Since we're using eager\n",
        "  # our model is callable just like any other function!\n",
        "  model_outputs = model(init_image)\n",
        "  \n",
        "  style_output_features = model_outputs[:num_style_layers]\n",
        "  content_output_features = model_outputs[num_style_layers:]\n",
        "  \n",
        "  style_score = 0\n",
        "  content_score = 0\n",
        "\n",
        "  # Accumulate style losses from all layers\n",
        "  # Here, we equally weight each contribution of each loss layer\n",
        "  weight_per_style_layer = 1.0 / float(num_style_layers)\n",
        "  for target_style, comb_style in zip(gram_style_features, style_output_features):\n",
        "    style_score += weight_per_style_layer * get_style_loss(comb_style[0], target_style)\n",
        "    \n",
        "  # Accumulate content losses from all layers \n",
        "  weight_per_content_layer = 1.0 / float(num_content_layers)\n",
        "  for target_content, comb_content in zip(content_features, content_output_features):\n",
        "    content_score += weight_per_content_layer* get_content_loss(comb_content[0], target_content)\n",
        "  \n",
        "  style_score *= style_weight\n",
        "  content_score *= content_weight\n",
        "\n",
        "  # Get total loss\n",
        "  loss = style_score + content_score \n",
        "  return loss, style_score, content_score"
      ],
      "execution_count": null,
      "outputs": []
    },
    {
      "cell_type": "code",
      "metadata": {
        "id": "fwzYeOqOUH9_"
      },
      "source": [
        "def compute_grads(cfg):\n",
        "  with tf.GradientTape() as tape: \n",
        "    all_loss = compute_loss(**cfg)\n",
        "  # Compute gradients wrt input image\n",
        "  total_loss = all_loss[0]\n",
        "  return tape.gradient(total_loss, cfg['init_image']), all_loss"
      ],
      "execution_count": null,
      "outputs": []
    },
    {
      "cell_type": "markdown",
      "metadata": {
        "id": "vKtHa9BzcgYL"
      },
      "source": [
        "A noteworthy point to discuss here is how the Adam optimiser is tuned. The justification for the hyperparameters tuned is found in my literature review, but please see the table below for the original and updated parameters.\n",
        "\n",
        "![nst.PNG](data:image/png;base64,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)\n"
      ]
    },
    {
      "cell_type": "markdown",
      "metadata": {
        "id": "q-PQW7lgcmua"
      },
      "source": [
        "Two important points here:\n",
        "\n",
        "1. Number of iterations was kept constant, can be increased but does not improve the results\n",
        "2. A significant difference in the quality of the output is measured by the content and style weights\n",
        "3. These were set to 1e-2 and 1e-5 respectively to yield optimal results"
      ]
    },
    {
      "cell_type": "code",
      "metadata": {
        "id": "pj_enNo6tACQ"
      },
      "source": [
        "import IPython.display\n",
        "\n",
        "def run_style_transfer(content_path, \n",
        "                       style_path,\n",
        "                       num_iterations=1000,\n",
        "                       content_weight=1e-2, \n",
        "                       style_weight=1e-5): \n",
        "  # We don't need to (or want to) train any layers of our model, so we set their\n",
        "  # trainable to false. \n",
        "  model = get_model() \n",
        "  for layer in model.layers:\n",
        "    layer.trainable = False\n",
        "  \n",
        "  # Get the style and content feature representations (from our specified intermediate layers) \n",
        "  style_features, content_features = get_feature_representations(model, content_path, style_path)\n",
        "  gram_style_features = [gram_matrix(style_feature) for style_feature in style_features]\n",
        "  \n",
        "  # Set initial image\n",
        "  init_image = load_and_process_img(content_path)\n",
        "  init_image = tf.Variable(init_image, dtype=tf.float32)\n",
        "  # Create our optimizer - SEE ADAM OPTIMIZER TABLE ABOVE TO SHOW TUNED/UNTUNED VALUES\n",
        "  opt = tf.train.AdamOptimizer(learning_rate=5, beta1=0.99, epsilon=1e-1)\n",
        "\n",
        "  # For displaying intermediate images \n",
        "  iter_count = 1\n",
        "  \n",
        "  # Store our best result\n",
        "  best_loss, best_img = float('inf'), None\n",
        "  \n",
        "  # Create a nice config \n",
        "  loss_weights = (style_weight, content_weight)\n",
        "  cfg = {\n",
        "      'model': model,\n",
        "      'loss_weights': loss_weights,\n",
        "      'init_image': init_image,\n",
        "      'gram_style_features': gram_style_features,\n",
        "      'content_features': content_features\n",
        "  }\n",
        "    \n",
        "  # For displaying\n",
        "  num_rows = 2\n",
        "  num_cols = 5\n",
        "  display_interval = num_iterations/(num_rows*num_cols)\n",
        "  start_time = time.time()\n",
        "  global_start = time.time()\n",
        "  \n",
        "  norm_means = np.array([103.939, 116.779, 123.68])\n",
        "  min_vals = -norm_means\n",
        "  max_vals = 255 - norm_means   \n",
        "  \n",
        "  imgs = []\n",
        "  for i in range(num_iterations):\n",
        "    grads, all_loss = compute_grads(cfg)\n",
        "    loss, style_score, content_score = all_loss\n",
        "    opt.apply_gradients([(grads, init_image)])\n",
        "    clipped = tf.clip_by_value(init_image, min_vals, max_vals)\n",
        "    init_image.assign(clipped)\n",
        "    end_time = time.time() \n",
        "    \n",
        "    if loss < best_loss:\n",
        "      # Update best loss and best image from total loss. \n",
        "      best_loss = loss\n",
        "      best_img = deprocess_img(init_image.numpy())\n",
        "\n",
        "    if i % display_interval== 0:\n",
        "      start_time = time.time()\n",
        "      \n",
        "      # Use the .numpy() method to get the concrete numpy array\n",
        "      plot_img = init_image.numpy()\n",
        "      plot_img = deprocess_img(plot_img)\n",
        "      imgs.append(plot_img)\n",
        "      IPython.display.clear_output(wait=True)\n",
        "      IPython.display.display_png(Image.fromarray(plot_img))\n",
        "      print('Iteration: {}'.format(i))        \n",
        "      print('Total loss: {:.4e}, ' \n",
        "            'style loss: {:.4e}, '\n",
        "            'content loss: {:.4e}, '\n",
        "            'time: {:.4f}s'.format(loss, style_score, content_score, time.time() - start_time))\n",
        "  print('Total time: {:.4f}s'.format(time.time() - global_start))\n",
        "  IPython.display.clear_output(wait=True)\n",
        "  plt.figure(figsize=(14,4))\n",
        "  for i,img in enumerate(imgs):\n",
        "      plt.subplot(num_rows,num_cols,i+1)\n",
        "      plt.imshow(img)\n",
        "      plt.xticks([])\n",
        "      plt.yticks([])\n",
        "      \n",
        "  return best_img, best_loss "
      ],
      "execution_count": null,
      "outputs": []
    },
    {
      "cell_type": "code",
      "metadata": {
        "id": "vSVMx4burydi"
      },
      "source": [
        "# Results are shown here\n",
        "best, best_loss = run_style_transfer(content_path, \n",
        "                                     style_path, num_iterations=1000)"
      ],
      "execution_count": null,
      "outputs": []
    },
    {
      "cell_type": "code",
      "metadata": {
        "id": "dzJTObpsO3TZ"
      },
      "source": [
        "Image.fromarray(best)"
      ],
      "execution_count": null,
      "outputs": []
    },
    {
      "cell_type": "code",
      "metadata": {
        "id": "lqTQN1PjulV9"
      },
      "source": [
        "# Show results - content and style image, as well as output displayed\n",
        "def show_results(best_img, content_path, style_path, show_large_final=True):\n",
        "  plt.figure(figsize=(10, 5))\n",
        "  content = load_img(content_path) \n",
        "  style = load_img(style_path)\n",
        "\n",
        "  plt.subplot(1, 2, 1)\n",
        "  imshow(content, 'Content Image')\n",
        "\n",
        "  plt.subplot(1, 2, 2)\n",
        "  imshow(style, 'Style Image')\n",
        "\n",
        "  if show_large_final: \n",
        "    plt.figure(figsize=(10, 10))\n",
        "\n",
        "    plt.imshow(best_img)\n",
        "    plt.title('Output Image')\n",
        "    plt.show()"
      ],
      "execution_count": null,
      "outputs": []
    },
    {
      "cell_type": "code",
      "metadata": {
        "id": "i6d6O50Yvs6a"
      },
      "source": [
        "show_results(best, content_path, style_path)"
      ],
      "execution_count": null,
      "outputs": []
    },
    {
      "cell_type": "markdown",
      "metadata": {
        "id": "ChjnFLbQe0dD"
      },
      "source": [
        "The next two lines of code are for when you wish to repeat the experiment for another content and style pair. Once you have run style transfer for an example, feel free to upload two landscape and style images of your choosing to Colab, then replace the content and style paths with the file names of the inputs. Note that both images must be landscape, as style transfer for portrait images is not supported by the CNN architecture used in this NST implementation. \n",
        "\n",
        "For example for a content image (photograph) with file name flowers.jpg, and a style image (artwork) with file name vangogh1.jpg, the code would read as follows:\n",
        "\n",
        "```\n",
        "best_vangogh, best_loss = run_style_transfer('flowers.jpg', 'vangogh1.jpg')\n",
        "show_results(best_vangogh, 'flowers.jpg', 'vangogh1.jpg')\n",
        "\n",
        "```\n",
        "\n",
        "Press Ctrl + / to uncomment the code below."
      ]
    },
    {
      "cell_type": "code",
      "metadata": {
        "id": "kZt8n5PUe1c_"
      },
      "source": [
        "# best_flowers, best_loss = run_style_transfer('input1.jpg', 'monet1.jpg')"
      ],
      "execution_count": null,
      "outputs": []
    },
    {
      "cell_type": "code",
      "metadata": {
        "id": "s8V_pyyxe1vn"
      },
      "source": [
        "# show_results(best_beach, 'input1.jpg', 'monet1.jpg')"
      ],
      "execution_count": null,
      "outputs": []
    },
    {
      "cell_type": "markdown",
      "metadata": {
        "id": "CQYD9SNVc1q4"
      },
      "source": [
        "**Instructions to calculate perceptual distance given an input and output image**\n",
        "\n",
        "1. Run the two lines of code below to create a Perceptual Distance directory.\n",
        "2. Save the output image to desktop using the Snipping Tool, then upload them to the Perceptual Similarity directory. Give it a memorable name e.g. beach_output.jpg. Do not do this until you have run the two lines of code below.\n",
        "2. Run the code to convert the images to the correct size, then save the image with a memorable name\n",
        "3. Pass the images into the convert('RGB') function - use the images you have saved in Step 2\n",
        "4. Pass the content path of each image into the line of code that calculates perceptual distance. If the process is repeated for another content/style pair, the paths of each image need to be updated"
      ]
    },
    {
      "cell_type": "code",
      "metadata": {
        "id": "z97BdKTlc4x-"
      },
      "source": [
        "# clone repo for perceptual distance\n",
        "!git clone https://github.com/richzhang/PerceptualSimilarity"
      ],
      "execution_count": null,
      "outputs": []
    },
    {
      "cell_type": "code",
      "metadata": {
        "id": "90GGW2wsc5R_"
      },
      "source": [
        "# change directory\n",
        "%cd PerceptualSimilarity/"
      ],
      "execution_count": null,
      "outputs": []
    },
    {
      "cell_type": "markdown",
      "metadata": {
        "id": "WyGaWBWq4gM3"
      },
      "source": [
        "Code below is based on this Stack Overflow article - ensures that images being used to calculate perceptual distance were of the same size. Note that the same code is used in Cycle-GAN.\n",
        "\n",
        "https://stackoverflow.com/questions/47929557/tensorflow-cnn-training-images-are-all-different-sizes"
      ]
    },
    {
      "cell_type": "code",
      "metadata": {
        "id": "X6sbDQ3Pc5Xv"
      },
      "source": [
        "# Run this code (step 3) to convert the images to the correct size\n",
        "\n",
        "from PIL import Image\n",
        "\n",
        "basewidth = 50 # MNIST image width\n",
        "img = Image.open('/content/PerceptualSimilarity/input1.jpg')\n",
        "wpercent = (basewidth/float(img.size[0]))\n",
        "hsize = int((float(img.size[1])*float(wpercent)))\n",
        "img = img.resize((1000,800), Image.ANTIALIAS)\n",
        "\n",
        "# Save image or feed directly to tensorflow, use a similar name as the saved image\n",
        "# This new image will be used to calculate perceptual distance \n",
        "img.save('input1.jpg') "
      ],
      "execution_count": null,
      "outputs": []
    },
    {
      "cell_type": "code",
      "metadata": {
        "id": "CZxECJusc5d0"
      },
      "source": [
        "from PIL import Image\n",
        "\n",
        "basewidth = 50 # MNIST image width\n",
        "img = Image.open('/content/PerceptualSimilarity/beach_output.JPG')\n",
        "wpercent = (basewidth/float(img.size[0]))\n",
        "hsize = int((float(img.size[1])*float(wpercent)))\n",
        "img = img.resize((1000,800), Image.ANTIALIAS)\n",
        "\n",
        "# Save image or feed directly to tensorflow \n",
        "img.save('beach_output.JPG') "
      ],
      "execution_count": null,
      "outputs": []
    },
    {
      "cell_type": "code",
      "metadata": {
        "id": "a5UELdj3c5gJ"
      },
      "source": [
        "# need to convert these images to RGB to get the perceptual distance"
      ],
      "execution_count": null,
      "outputs": []
    },
    {
      "cell_type": "code",
      "metadata": {
        "id": "1bQ4WNwhdBl2"
      },
      "source": [
        "# step 4\n",
        "test_image1 = Image.open('input1.jpg').convert('RGB')"
      ],
      "execution_count": null,
      "outputs": []
    },
    {
      "cell_type": "code",
      "metadata": {
        "id": "eTtxsc67dBoK"
      },
      "source": [
        "test_image2 = Image.open('beach_output.JPG').convert('RGB')"
      ],
      "execution_count": null,
      "outputs": []
    },
    {
      "cell_type": "markdown",
      "metadata": {
        "id": "HcuP3LnhgPKF"
      },
      "source": [
        "Example for step 5\n",
        "\n",
        "`!python lpips_2imgs.py -p0 /path-to-output-image -p1 /path-to-style-image`\n",
        "\n",
        "To get the path to an image, click on the image in the directory, then click on the dots on the far-right, then click copy path."
      ]
    },
    {
      "cell_type": "code",
      "metadata": {
        "id": "sAuMpeQydBqr"
      },
      "source": [
        "# step 5\n",
        "# get perceptual distance (p0 = original image, p1 = output) -> perceptual distance should be between 0 and 1\n",
        "!python lpips_2imgs.py -p0 /content/PerceptualSimilarity/input1.jpg -p1 /content/PerceptualSimilarity/beach_output.JPG"
      ],
      "execution_count": null,
      "outputs": []
    },
    {
      "cell_type": "code",
      "metadata": {
        "id": "XHM5AyxxhYUE"
      },
      "source": [
        ""
      ],
      "execution_count": null,
      "outputs": []
    }
  ]
}